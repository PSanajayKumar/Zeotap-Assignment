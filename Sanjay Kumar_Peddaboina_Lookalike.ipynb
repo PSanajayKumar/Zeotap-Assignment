{
 "cells": [
  {
   "cell_type": "code",
   "execution_count": 2,
   "id": "d15d4f74",
   "metadata": {},
   "outputs": [],
   "source": [
    "import pandas as pd\n",
    "from sklearn.metrics.pairwise import cosine_similarity\n",
    "from sklearn.preprocessing import StandardScaler"
   ]
  },
  {
   "cell_type": "code",
   "execution_count": 3,
   "id": "28606225",
   "metadata": {},
   "outputs": [],
   "source": [
    "customers = pd.read_csv(r'C:\\Users\\sanja\\Downloads\\Customers.csv')\n",
    "transactions = pd.read_csv(r'C:\\Users\\sanja\\Downloads\\Transactions.csv')"
   ]
  },
  {
   "cell_type": "code",
   "execution_count": 4,
   "id": "e3c20037",
   "metadata": {},
   "outputs": [],
   "source": [
    "customer_transactions = transactions.groupby('CustomerID').agg(\n",
    "    total_spent=('TotalValue', 'sum'),\n",
    "    avg_transaction_value=('TotalValue', 'mean'),\n",
    "    transaction_count=('TransactionID', 'count')\n",
    ").reset_index()"
   ]
  },
  {
   "cell_type": "code",
   "execution_count": 5,
   "id": "cde3380f",
   "metadata": {},
   "outputs": [],
   "source": [
    "customer_profiles = pd.merge(customers, customer_transactions, on='CustomerID', how='left')"
   ]
  },
  {
   "cell_type": "code",
   "execution_count": 6,
   "id": "0734019b",
   "metadata": {},
   "outputs": [],
   "source": [
    "customer_profiles.fillna(0, inplace=True)"
   ]
  },
  {
   "cell_type": "code",
   "execution_count": 7,
   "id": "857524f3",
   "metadata": {},
   "outputs": [],
   "source": [
    "scaler = StandardScaler()\n",
    "features = ['total_spent', 'avg_transaction_value', 'transaction_count']\n",
    "customer_profiles[features] = scaler.fit_transform(customer_profiles[features])"
   ]
  },
  {
   "cell_type": "code",
   "execution_count": 8,
   "id": "e5a2f01f",
   "metadata": {},
   "outputs": [],
   "source": [
    "similarity_matrix = cosine_similarity(customer_profiles[features])"
   ]
  },
  {
   "cell_type": "code",
   "execution_count": 9,
   "id": "c7d7a1bf",
   "metadata": {},
   "outputs": [],
   "source": [
    "def get_lookalikes(customer_id, top_n=3):\n",
    "    customer_idx = customer_profiles[customer_profiles['CustomerID'] == customer_id].index[0]\n",
    "    similarity_scores = list(enumerate(similarity_matrix[customer_idx]))\n",
    "    similarity_scores = sorted(similarity_scores, key=lambda x: x[1], reverse=True)\n",
    "    top_customers = [customer_profiles.iloc[i[0]].CustomerID for i in similarity_scores[1:top_n + 1]]\n",
    "    top_scores = [i[1] for i in similarity_scores[1:top_n + 1]]\n",
    "    return list(zip(top_customers, top_scores))"
   ]
  },
  {
   "cell_type": "code",
   "execution_count": 10,
   "id": "074884f1",
   "metadata": {},
   "outputs": [],
   "source": [
    "lookalike_results = {}\n",
    "for customer_id in customer_profiles['CustomerID'][:20]:\n",
    "    lookalike_results[customer_id] = get_lookalikes(customer_id)"
   ]
  },
  {
   "cell_type": "code",
   "execution_count": 11,
   "id": "007e4049",
   "metadata": {},
   "outputs": [],
   "source": [
    "lookalike_df = pd.DataFrame({\n",
    "    'CustomerID': list(lookalike_results.keys()),\n",
    "    'Lookalikes': [str(lookalike_results[cust_id]) for cust_id in lookalike_results]})"
   ]
  },
  {
   "cell_type": "code",
   "execution_count": 12,
   "id": "dfd02ff3",
   "metadata": {},
   "outputs": [],
   "source": [
    "lookalike_df.to_csv('Sanjay Kumar_Peddaboina_Lookalike.csv', index=False)"
   ]
  },
  {
   "cell_type": "code",
   "execution_count": 13,
   "id": "28cd596f",
   "metadata": {},
   "outputs": [
    {
     "name": "stdout",
     "output_type": "stream",
     "text": [
      "  CustomerID                                         Lookalikes\n",
      "0      C0001  [('C0137', 0.999217832279607), ('C0152', 0.992...\n",
      "1      C0002  [('C0029', 0.9996304690463753), ('C0199', 0.99...\n",
      "2      C0003  [('C0005', 0.9999316372091099), ('C0178', 0.99...\n",
      "3      C0004  [('C0067', 0.9998110253764195), ('C0021', 0.99...\n",
      "4      C0005  [('C0003', 0.9999316372091099), ('C0073', 0.99...\n"
     ]
    }
   ],
   "source": [
    "print(lookalike_df.head())"
   ]
  },
  {
   "cell_type": "code",
   "execution_count": null,
   "id": "bdb37033",
   "metadata": {},
   "outputs": [],
   "source": []
  }
 ],
 "metadata": {
  "kernelspec": {
   "display_name": "Python 3 (ipykernel)",
   "language": "python",
   "name": "python3"
  },
  "language_info": {
   "codemirror_mode": {
    "name": "ipython",
    "version": 3
   },
   "file_extension": ".py",
   "mimetype": "text/x-python",
   "name": "python",
   "nbconvert_exporter": "python",
   "pygments_lexer": "ipython3",
   "version": "3.10.9"
  }
 },
 "nbformat": 4,
 "nbformat_minor": 5
}
